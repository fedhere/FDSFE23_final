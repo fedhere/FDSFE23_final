{
  "nbformat": 4,
  "nbformat_minor": 0,
  "metadata": {
    "colab": {
      "provenance": [],
      "include_colab_link": true
    },
    "kernelspec": {
      "name": "python3",
      "display_name": "Python 3"
    },
    "language_info": {
      "name": "python"
    }
  },
  "cells": [
    {
      "cell_type": "markdown",
      "metadata": {
        "id": "view-in-github",
        "colab_type": "text"
      },
      "source": [
        "<a href=\"https://colab.research.google.com/github/fedhere/FDSFE23_final/blob/main/FDSFE2023_Final_instructions.ipynb\" target=\"_parent\"><img src=\"https://colab.research.google.com/assets/colab-badge.svg\" alt=\"Open In Colab\"/></a>"
      ]
    },
    {
      "cell_type": "markdown",
      "source": [
        "# FDSFE2023 Final:\n",
        "\n",
        "**RULES: work alone.**\n",
        "\n",
        "That's it. That's the only rule. You can ask as many questions as you want -- and I strongly encourage you to ask if you are stuck, dont stay stuck --- **on the slack channel #final**. Not in a DM, so that all instructors can see the questions and help you and other students can benefit.\n",
        "\n",
        "In this exam you will predict house prizing based on several characteristics of different properties as available on Kaggle. You will perform a classification task, but turning your numerical target variable, the price, into a binary variable, and a regression. Throughout the exam,\n",
        "- make plots, with axis labels and captions (as cells of text),\n",
        "- comment on the choices you make in data preprocessing and in modeling.\n",
        "\n",
        "As usual, you will not be evaluated on how accurate the predictions are, but on how much knowledge you demonstrate in the comments you make!\n",
        "\n",
        "\n",
        "\n",
        "\n",
        "**PART I: DATA HANDLING - 65 points**\n",
        "\n",
        "\n",
        "   Task I.1: environment level tasks (15 points)\n",
        "     General environment tasks (5/15 points)\n",
        "     Kaggle stuff (10/15 points)\n",
        "\n",
        "\n",
        "   Task I.2: data ingestion (5 points)\n",
        "   Task I.3: Data Exploration (15 points)\n",
        "   Task I.4: data cleaning and preprocessing (25 points)\n",
        "     Two columns that speak to the age of the house are redundant. drop a column (3/15 points)\n",
        "     I do not know what the citiCode and cityPartRange variables are. Get rid of them. (2/25 points)\n",
        "     What other variables are not useful? drop them (3/25 points)\n",
        "\n",
        "\n",
        "         Optional (Extra Credit) - before you standardize your data, separate the variables that are binary from the ones that are not (+5 points)\n",
        "     Scale the data (7/25 points).\n",
        "         Optional (part of the EC): If you had split the binary and non-binary data, put it back together now\n",
        "     For the regression: given the median price, and the fact that I would like my target variable to be of order unit for more accurate computations. divide the target variable price by 1,000,000. This is the part y = ...\n",
        "     For the classification, split the target variable into two group, larger and smaller than a value of your choice. BUT, choose the value so that there are roughly as many objects in each of the two classes (5/25 points)\n",
        "    \n",
        "**PART II: MODELING - 30 points**\n",
        "\n",
        "\n",
        "   Task II.1 : Classifiation into two price classes (15 points)\n",
        "\n",
        "\n",
        "     Split your data into training and testing (5 points)\n",
        "     Run the classifier model (5/10 points)\n",
        "     Assess the performance of your model (5/10 points)\n",
        "\n",
        "\n",
        "\n",
        "\n",
        "   Task II.2 Regression (15 points)\n",
        "     Split your data again into train and test (3/13 points)\n",
        "     Run the classifier model (3/13 points)\n",
        "     Make a plot of the prediction against the true value for both training and test set (4/13 points)\n",
        "     Assess the model (5/13 points)\n",
        "\n",
        "\n",
        "\n",
        "\n",
        "**Optional Extra Credit:**\n",
        "\n",
        "   Perform a feature importance analysis: what variables are most useful for the regression? what about the classification - are they the same? Can you trust this feature importance analysis?\n",
        "\n",
        "\n",
        "** Extra extra credit (if you really want to show off)**\n",
        "   Remove the most important variable and redo the regression/classification. How did they go?\n",
        "\n",
        "\n",
        "**+10 points if your code runs from the top to the bottom** - make sure before you turn it in you restart the kernel and rerun it (Runtime->Restart session and run all) _until_ it runs top to bottom\n",
        "\n",
        "** +10 points of your code is clean and notebook well curated ** you may have noticed that this adds up to 115 points. Plus extra credit. Max is 100, so you have multiple ways to get 100!\n"
      ],
      "metadata": {
        "id": "7KcShkznhCQa"
      }
    },
    {
      "cell_type": "markdown",
      "source": [
        "## PART I: DATA HANDLING"
      ],
      "metadata": {
        "id": "K5fFbTXdwv7A"
      }
    },
    {
      "cell_type": "markdown",
      "source": [
        "#Task I.1: environment level tasks (15 points)"
      ],
      "metadata": {
        "id": "HR0t-QiZFUpB"
      }
    },
    {
      "cell_type": "markdown",
      "source": [
        "## General environment tasks (5/15 points)\n",
        "imports, mount drive, etc"
      ],
      "metadata": {
        "id": "MB_IkQTNHlRt"
      }
    },
    {
      "cell_type": "code",
      "source": [
        "## put your imports here\n",
        "..."
      ],
      "metadata": {
        "id": "d5p2KGY7FZBr"
      },
      "execution_count": null,
      "outputs": []
    },
    {
      "cell_type": "markdown",
      "source": [
        "mount your drive here and move to your MyDrive directory"
      ],
      "metadata": {
        "id": "gW42JT-3wyVh"
      }
    },
    {
      "cell_type": "code",
      "source": [
        "..."
      ],
      "metadata": {
        "id": "YF63I-MmFh4L"
      },
      "execution_count": null,
      "outputs": []
    },
    {
      "cell_type": "code",
      "source": [
        "..."
      ],
      "metadata": {
        "colab": {
          "base_uri": "https://localhost:8080/"
        },
        "id": "maQkwNknynu1",
        "outputId": "f5d1ef75-bcd9-4869-f7f9-890270bbbace"
      },
      "execution_count": null,
      "outputs": [
        {
          "output_type": "stream",
          "name": "stdout",
          "text": [
            "/content/drive/MyDrive\n"
          ]
        }
      ]
    },
    {
      "cell_type": "markdown",
      "source": [
        "you should see this^^^ if you succesfully mounted your drive and moved to the MyDrive folder"
      ],
      "metadata": {
        "id": "E58Md61leFzE"
      }
    },
    {
      "cell_type": "markdown",
      "source": [
        "## Kaggle stuff (10/15 points)\n",
        " load your kaggle credential to use the kaggle API (as we did in homework HW6)"
      ],
      "metadata": {
        "id": "glzWYq3hw5X5"
      }
    },
    {
      "cell_type": "code",
      "source": [
        "kaggle_credentials = ...\n",
        "os.environ['KAGGLE_USERNAME'] = ...\n",
        "os.environ['KAGGLE_KEY'] = ...\n"
      ],
      "metadata": {
        "id": "QJL7G4PfyOOG"
      },
      "execution_count": null,
      "outputs": []
    },
    {
      "cell_type": "code",
      "source": [
        "#import kaggle (note: this has to be done after you set the credentials)\n",
        "import kaggle"
      ],
      "metadata": {
        "id": "XTQS0EiNx0EF"
      },
      "execution_count": null,
      "outputs": []
    },
    {
      "cell_type": "markdown",
      "source": [
        "create a folder called FDSFE2023_final and go to that folder (we also did this in HW6 for a folder called kaggleTitanic)"
      ],
      "metadata": {
        "id": "A4MVZedjxNDO"
      }
    },
    {
      "cell_type": "code",
      "source": [
        "..."
      ],
      "metadata": {
        "id": "K6bcnv9MeW8Y"
      },
      "execution_count": null,
      "outputs": []
    },
    {
      "cell_type": "code",
      "source": [
        "..."
      ],
      "metadata": {
        "colab": {
          "base_uri": "https://localhost:8080/"
        },
        "id": "4ttKWWU4Ij4s",
        "outputId": "53c7a548-ca4a-46ee-8967-ac03e9e2a450"
      },
      "execution_count": null,
      "outputs": [
        {
          "output_type": "stream",
          "name": "stdout",
          "text": [
            "/content/drive/MyDrive/FDSFE2023_final\n"
          ]
        }
      ]
    },
    {
      "cell_type": "markdown",
      "source": [
        "you should see the message above as the return of your cd command to change directory and get into the FDSFE2023_final that you created"
      ],
      "metadata": {
        "id": "A43GvHS7GQjn"
      }
    },
    {
      "cell_type": "markdown",
      "source": [
        "### find the kaggle challenge called _Regression with a Tabular Paris Housing Dataset_ on the Kaggle website\n",
        "In the Data tab, you will find the commands to downoload the data (it looks like `kaggle competitions download...`. Remember to run the `kaggle` commands in the google colab notebook you have to se `!kaggle` (with an ! before the word))\n",
        "\n",
        "You will need to agree to the terms and condition by joining the challenge, then download the data with the command as found on the webpage and unzip it\n",
        "\n",
        "If you have problems look here https://docs.google.com/document/d/1t1DsFn0gHy09hl6i1AmnOqlbZnigetY0o-D1AahOxYU/edit?usp=sharing"
      ],
      "metadata": {
        "id": "k3jWWTStxLZS"
      }
    },
    {
      "cell_type": "code",
      "source": [
        "..."
      ],
      "metadata": {
        "id": "y2w5v8R1z-KG"
      },
      "execution_count": null,
      "outputs": []
    },
    {
      "cell_type": "code",
      "source": [
        "!unzip ...."
      ],
      "metadata": {
        "id": "6UDwqz6gHWSE"
      },
      "execution_count": null,
      "outputs": []
    },
    {
      "cell_type": "code",
      "source": [
        "!ls"
      ],
      "metadata": {
        "colab": {
          "base_uri": "https://localhost:8080/"
        },
        "id": "je6M-4EQKryy",
        "outputId": "c71717d1-85df-494b-e01e-bd8c7fc8a341"
      },
      "execution_count": null,
      "outputs": [
        {
          "output_type": "stream",
          "name": "stdout",
          "text": [
            "playground-series-s3e6.zip  sample_submission.csv  test.csv  train.csv\n"
          ]
        }
      ]
    },
    {
      "cell_type": "markdown",
      "source": [
        "After you unzip you should see the objects above ^^^"
      ],
      "metadata": {
        "id": "vOWUaXJtHC5P"
      }
    },
    {
      "cell_type": "markdown",
      "source": [
        "# Task I.2: data ingestion (5 points)\n",
        "\n",
        "## read in the file called \"train.csv\" (5/5 points)\n",
        "We will use it as our dataset and build a training and test set from it\n",
        "\n",
        "If you were unable to get the data through Kaggle get it here https://github.com/fedhere/FDSFE23_final where its called `data_housing.csv`. You wont get points for the kaggle tasks that you did not complete, but you can get partial points for the earlier portion of the exam and continue working. You can also go back to Kaggle later. Dont stay stuck! If you are trying to download the file from the repo and have problem look at hints here"
      ],
      "metadata": {
        "id": "z3OTr9EZy7jl"
      }
    },
    {
      "cell_type": "code",
      "source": [
        "...\n",
        "data_housing.head()"
      ],
      "metadata": {
        "colab": {
          "base_uri": "https://localhost:8080/",
          "height": 206
        },
        "id": "dWRSzAhjLMe2",
        "outputId": "7b2226e6-3295-416f-ea7c-5dfd94d6abae"
      },
      "execution_count": null,
      "outputs": [
        {
          "output_type": "execute_result",
          "data": {
            "text/plain": [
              "   id  squareMeters  numberOfRooms  hasYard  hasPool  floors  cityCode  \\\n",
              "0   0         34291             24        1        0      47     35693   \n",
              "1   1         95145             60        0        1      60     34773   \n",
              "2   2         92661             45        1        1      62     45457   \n",
              "3   3         97184             99        0        0      59     15113   \n",
              "4   4         61752            100        0        0      57     64245   \n",
              "\n",
              "   cityPartRange  numPrevOwners  made  isNewBuilt  hasStormProtector  \\\n",
              "0              2              1  2000           0                  1   \n",
              "1              1              4  2000           0                  1   \n",
              "2              4              8  2020           1                  1   \n",
              "3              1              1  2000           0                  1   \n",
              "4              8              4  2018           1                  0   \n",
              "\n",
              "   basement  attic  garage  hasStorageRoom  hasGuestRoom      price  \n",
              "0         8   5196     369               0             3  3436795.2  \n",
              "1       729   4496     277               0             6  9519958.0  \n",
              "2      7473   8953     245               1             9  9276448.1  \n",
              "3      6424   8522     256               1             9  9725732.2  \n",
              "4      7151   2786     863               0             7  6181908.8  "
            ],
            "text/html": [
              "\n",
              "  <div id=\"df-6689d6e8-c49d-4761-b015-485b8954a2d4\" class=\"colab-df-container\">\n",
              "    <div>\n",
              "<style scoped>\n",
              "    .dataframe tbody tr th:only-of-type {\n",
              "        vertical-align: middle;\n",
              "    }\n",
              "\n",
              "    .dataframe tbody tr th {\n",
              "        vertical-align: top;\n",
              "    }\n",
              "\n",
              "    .dataframe thead th {\n",
              "        text-align: right;\n",
              "    }\n",
              "</style>\n",
              "<table border=\"1\" class=\"dataframe\">\n",
              "  <thead>\n",
              "    <tr style=\"text-align: right;\">\n",
              "      <th></th>\n",
              "      <th>id</th>\n",
              "      <th>squareMeters</th>\n",
              "      <th>numberOfRooms</th>\n",
              "      <th>hasYard</th>\n",
              "      <th>hasPool</th>\n",
              "      <th>floors</th>\n",
              "      <th>cityCode</th>\n",
              "      <th>cityPartRange</th>\n",
              "      <th>numPrevOwners</th>\n",
              "      <th>made</th>\n",
              "      <th>isNewBuilt</th>\n",
              "      <th>hasStormProtector</th>\n",
              "      <th>basement</th>\n",
              "      <th>attic</th>\n",
              "      <th>garage</th>\n",
              "      <th>hasStorageRoom</th>\n",
              "      <th>hasGuestRoom</th>\n",
              "      <th>price</th>\n",
              "    </tr>\n",
              "  </thead>\n",
              "  <tbody>\n",
              "    <tr>\n",
              "      <th>0</th>\n",
              "      <td>0</td>\n",
              "      <td>34291</td>\n",
              "      <td>24</td>\n",
              "      <td>1</td>\n",
              "      <td>0</td>\n",
              "      <td>47</td>\n",
              "      <td>35693</td>\n",
              "      <td>2</td>\n",
              "      <td>1</td>\n",
              "      <td>2000</td>\n",
              "      <td>0</td>\n",
              "      <td>1</td>\n",
              "      <td>8</td>\n",
              "      <td>5196</td>\n",
              "      <td>369</td>\n",
              "      <td>0</td>\n",
              "      <td>3</td>\n",
              "      <td>3436795.2</td>\n",
              "    </tr>\n",
              "    <tr>\n",
              "      <th>1</th>\n",
              "      <td>1</td>\n",
              "      <td>95145</td>\n",
              "      <td>60</td>\n",
              "      <td>0</td>\n",
              "      <td>1</td>\n",
              "      <td>60</td>\n",
              "      <td>34773</td>\n",
              "      <td>1</td>\n",
              "      <td>4</td>\n",
              "      <td>2000</td>\n",
              "      <td>0</td>\n",
              "      <td>1</td>\n",
              "      <td>729</td>\n",
              "      <td>4496</td>\n",
              "      <td>277</td>\n",
              "      <td>0</td>\n",
              "      <td>6</td>\n",
              "      <td>9519958.0</td>\n",
              "    </tr>\n",
              "    <tr>\n",
              "      <th>2</th>\n",
              "      <td>2</td>\n",
              "      <td>92661</td>\n",
              "      <td>45</td>\n",
              "      <td>1</td>\n",
              "      <td>1</td>\n",
              "      <td>62</td>\n",
              "      <td>45457</td>\n",
              "      <td>4</td>\n",
              "      <td>8</td>\n",
              "      <td>2020</td>\n",
              "      <td>1</td>\n",
              "      <td>1</td>\n",
              "      <td>7473</td>\n",
              "      <td>8953</td>\n",
              "      <td>245</td>\n",
              "      <td>1</td>\n",
              "      <td>9</td>\n",
              "      <td>9276448.1</td>\n",
              "    </tr>\n",
              "    <tr>\n",
              "      <th>3</th>\n",
              "      <td>3</td>\n",
              "      <td>97184</td>\n",
              "      <td>99</td>\n",
              "      <td>0</td>\n",
              "      <td>0</td>\n",
              "      <td>59</td>\n",
              "      <td>15113</td>\n",
              "      <td>1</td>\n",
              "      <td>1</td>\n",
              "      <td>2000</td>\n",
              "      <td>0</td>\n",
              "      <td>1</td>\n",
              "      <td>6424</td>\n",
              "      <td>8522</td>\n",
              "      <td>256</td>\n",
              "      <td>1</td>\n",
              "      <td>9</td>\n",
              "      <td>9725732.2</td>\n",
              "    </tr>\n",
              "    <tr>\n",
              "      <th>4</th>\n",
              "      <td>4</td>\n",
              "      <td>61752</td>\n",
              "      <td>100</td>\n",
              "      <td>0</td>\n",
              "      <td>0</td>\n",
              "      <td>57</td>\n",
              "      <td>64245</td>\n",
              "      <td>8</td>\n",
              "      <td>4</td>\n",
              "      <td>2018</td>\n",
              "      <td>1</td>\n",
              "      <td>0</td>\n",
              "      <td>7151</td>\n",
              "      <td>2786</td>\n",
              "      <td>863</td>\n",
              "      <td>0</td>\n",
              "      <td>7</td>\n",
              "      <td>6181908.8</td>\n",
              "    </tr>\n",
              "  </tbody>\n",
              "</table>\n",
              "</div>\n",
              "    <div class=\"colab-df-buttons\">\n",
              "\n",
              "  <div class=\"colab-df-container\">\n",
              "    <button class=\"colab-df-convert\" onclick=\"convertToInteractive('df-6689d6e8-c49d-4761-b015-485b8954a2d4')\"\n",
              "            title=\"Convert this dataframe to an interactive table.\"\n",
              "            style=\"display:none;\">\n",
              "\n",
              "  <svg xmlns=\"http://www.w3.org/2000/svg\" height=\"24px\" viewBox=\"0 -960 960 960\">\n",
              "    <path d=\"M120-120v-720h720v720H120Zm60-500h600v-160H180v160Zm220 220h160v-160H400v160Zm0 220h160v-160H400v160ZM180-400h160v-160H180v160Zm440 0h160v-160H620v160ZM180-180h160v-160H180v160Zm440 0h160v-160H620v160Z\"/>\n",
              "  </svg>\n",
              "    </button>\n",
              "\n",
              "  <style>\n",
              "    .colab-df-container {\n",
              "      display:flex;\n",
              "      gap: 12px;\n",
              "    }\n",
              "\n",
              "    .colab-df-convert {\n",
              "      background-color: #E8F0FE;\n",
              "      border: none;\n",
              "      border-radius: 50%;\n",
              "      cursor: pointer;\n",
              "      display: none;\n",
              "      fill: #1967D2;\n",
              "      height: 32px;\n",
              "      padding: 0 0 0 0;\n",
              "      width: 32px;\n",
              "    }\n",
              "\n",
              "    .colab-df-convert:hover {\n",
              "      background-color: #E2EBFA;\n",
              "      box-shadow: 0px 1px 2px rgba(60, 64, 67, 0.3), 0px 1px 3px 1px rgba(60, 64, 67, 0.15);\n",
              "      fill: #174EA6;\n",
              "    }\n",
              "\n",
              "    .colab-df-buttons div {\n",
              "      margin-bottom: 4px;\n",
              "    }\n",
              "\n",
              "    [theme=dark] .colab-df-convert {\n",
              "      background-color: #3B4455;\n",
              "      fill: #D2E3FC;\n",
              "    }\n",
              "\n",
              "    [theme=dark] .colab-df-convert:hover {\n",
              "      background-color: #434B5C;\n",
              "      box-shadow: 0px 1px 3px 1px rgba(0, 0, 0, 0.15);\n",
              "      filter: drop-shadow(0px 1px 2px rgba(0, 0, 0, 0.3));\n",
              "      fill: #FFFFFF;\n",
              "    }\n",
              "  </style>\n",
              "\n",
              "    <script>\n",
              "      const buttonEl =\n",
              "        document.querySelector('#df-6689d6e8-c49d-4761-b015-485b8954a2d4 button.colab-df-convert');\n",
              "      buttonEl.style.display =\n",
              "        google.colab.kernel.accessAllowed ? 'block' : 'none';\n",
              "\n",
              "      async function convertToInteractive(key) {\n",
              "        const element = document.querySelector('#df-6689d6e8-c49d-4761-b015-485b8954a2d4');\n",
              "        const dataTable =\n",
              "          await google.colab.kernel.invokeFunction('convertToInteractive',\n",
              "                                                    [key], {});\n",
              "        if (!dataTable) return;\n",
              "\n",
              "        const docLinkHtml = 'Like what you see? Visit the ' +\n",
              "          '<a target=\"_blank\" href=https://colab.research.google.com/notebooks/data_table.ipynb>data table notebook</a>'\n",
              "          + ' to learn more about interactive tables.';\n",
              "        element.innerHTML = '';\n",
              "        dataTable['output_type'] = 'display_data';\n",
              "        await google.colab.output.renderOutput(dataTable, element);\n",
              "        const docLink = document.createElement('div');\n",
              "        docLink.innerHTML = docLinkHtml;\n",
              "        element.appendChild(docLink);\n",
              "      }\n",
              "    </script>\n",
              "  </div>\n",
              "\n",
              "\n",
              "<div id=\"df-b679a677-f8c6-40cf-89a0-77020f694953\">\n",
              "  <button class=\"colab-df-quickchart\" onclick=\"quickchart('df-b679a677-f8c6-40cf-89a0-77020f694953')\"\n",
              "            title=\"Suggest charts\"\n",
              "            style=\"display:none;\">\n",
              "\n",
              "<svg xmlns=\"http://www.w3.org/2000/svg\" height=\"24px\"viewBox=\"0 0 24 24\"\n",
              "     width=\"24px\">\n",
              "    <g>\n",
              "        <path d=\"M19 3H5c-1.1 0-2 .9-2 2v14c0 1.1.9 2 2 2h14c1.1 0 2-.9 2-2V5c0-1.1-.9-2-2-2zM9 17H7v-7h2v7zm4 0h-2V7h2v10zm4 0h-2v-4h2v4z\"/>\n",
              "    </g>\n",
              "</svg>\n",
              "  </button>\n",
              "\n",
              "<style>\n",
              "  .colab-df-quickchart {\n",
              "      --bg-color: #E8F0FE;\n",
              "      --fill-color: #1967D2;\n",
              "      --hover-bg-color: #E2EBFA;\n",
              "      --hover-fill-color: #174EA6;\n",
              "      --disabled-fill-color: #AAA;\n",
              "      --disabled-bg-color: #DDD;\n",
              "  }\n",
              "\n",
              "  [theme=dark] .colab-df-quickchart {\n",
              "      --bg-color: #3B4455;\n",
              "      --fill-color: #D2E3FC;\n",
              "      --hover-bg-color: #434B5C;\n",
              "      --hover-fill-color: #FFFFFF;\n",
              "      --disabled-bg-color: #3B4455;\n",
              "      --disabled-fill-color: #666;\n",
              "  }\n",
              "\n",
              "  .colab-df-quickchart {\n",
              "    background-color: var(--bg-color);\n",
              "    border: none;\n",
              "    border-radius: 50%;\n",
              "    cursor: pointer;\n",
              "    display: none;\n",
              "    fill: var(--fill-color);\n",
              "    height: 32px;\n",
              "    padding: 0;\n",
              "    width: 32px;\n",
              "  }\n",
              "\n",
              "  .colab-df-quickchart:hover {\n",
              "    background-color: var(--hover-bg-color);\n",
              "    box-shadow: 0 1px 2px rgba(60, 64, 67, 0.3), 0 1px 3px 1px rgba(60, 64, 67, 0.15);\n",
              "    fill: var(--button-hover-fill-color);\n",
              "  }\n",
              "\n",
              "  .colab-df-quickchart-complete:disabled,\n",
              "  .colab-df-quickchart-complete:disabled:hover {\n",
              "    background-color: var(--disabled-bg-color);\n",
              "    fill: var(--disabled-fill-color);\n",
              "    box-shadow: none;\n",
              "  }\n",
              "\n",
              "  .colab-df-spinner {\n",
              "    border: 2px solid var(--fill-color);\n",
              "    border-color: transparent;\n",
              "    border-bottom-color: var(--fill-color);\n",
              "    animation:\n",
              "      spin 1s steps(1) infinite;\n",
              "  }\n",
              "\n",
              "  @keyframes spin {\n",
              "    0% {\n",
              "      border-color: transparent;\n",
              "      border-bottom-color: var(--fill-color);\n",
              "      border-left-color: var(--fill-color);\n",
              "    }\n",
              "    20% {\n",
              "      border-color: transparent;\n",
              "      border-left-color: var(--fill-color);\n",
              "      border-top-color: var(--fill-color);\n",
              "    }\n",
              "    30% {\n",
              "      border-color: transparent;\n",
              "      border-left-color: var(--fill-color);\n",
              "      border-top-color: var(--fill-color);\n",
              "      border-right-color: var(--fill-color);\n",
              "    }\n",
              "    40% {\n",
              "      border-color: transparent;\n",
              "      border-right-color: var(--fill-color);\n",
              "      border-top-color: var(--fill-color);\n",
              "    }\n",
              "    60% {\n",
              "      border-color: transparent;\n",
              "      border-right-color: var(--fill-color);\n",
              "    }\n",
              "    80% {\n",
              "      border-color: transparent;\n",
              "      border-right-color: var(--fill-color);\n",
              "      border-bottom-color: var(--fill-color);\n",
              "    }\n",
              "    90% {\n",
              "      border-color: transparent;\n",
              "      border-bottom-color: var(--fill-color);\n",
              "    }\n",
              "  }\n",
              "</style>\n",
              "\n",
              "  <script>\n",
              "    async function quickchart(key) {\n",
              "      const quickchartButtonEl =\n",
              "        document.querySelector('#' + key + ' button');\n",
              "      quickchartButtonEl.disabled = true;  // To prevent multiple clicks.\n",
              "      quickchartButtonEl.classList.add('colab-df-spinner');\n",
              "      try {\n",
              "        const charts = await google.colab.kernel.invokeFunction(\n",
              "            'suggestCharts', [key], {});\n",
              "      } catch (error) {\n",
              "        console.error('Error during call to suggestCharts:', error);\n",
              "      }\n",
              "      quickchartButtonEl.classList.remove('colab-df-spinner');\n",
              "      quickchartButtonEl.classList.add('colab-df-quickchart-complete');\n",
              "    }\n",
              "    (() => {\n",
              "      let quickchartButtonEl =\n",
              "        document.querySelector('#df-b679a677-f8c6-40cf-89a0-77020f694953 button');\n",
              "      quickchartButtonEl.style.display =\n",
              "        google.colab.kernel.accessAllowed ? 'block' : 'none';\n",
              "    })();\n",
              "  </script>\n",
              "</div>\n",
              "\n",
              "    </div>\n",
              "  </div>\n"
            ]
          },
          "metadata": {},
          "execution_count": 160
        }
      ]
    },
    {
      "cell_type": "markdown",
      "source": [
        "# Task I.3: Data Exploration (15 points)\n",
        "\n",
        "Peform useful data exploration tasks as you have learned in the class including but not limited to\n",
        "- show the start ad end of the datase, the shape and other relevant info\n",
        "- make plots of the variables that show the distribution and possible correlation\n",
        "- deal with missing data if needed\n",
        "\n",
        "NOTE: this task should include exploratory visualizations! And all plots always need axis labels and captions to be counted. The caption should describe **what** is being plotted and what is interesting about what is being plotted. Any comments that help you understand the structure of the dataset is useful in this caption.\n",
        "\n",
        "If you print out quantities please make sure you limit the number of decimal digits to a small number!"
      ],
      "metadata": {
        "id": "OmbZ0cYwzC8O"
      }
    },
    {
      "cell_type": "code",
      "source": [
        "... # several cells of code here"
      ],
      "metadata": {
        "id": "4QSlFVD0N7Ys"
      },
      "execution_count": null,
      "outputs": []
    },
    {
      "cell_type": "markdown",
      "source": [
        "# Task I.4: data cleaning and preprocessing (25 points)\n",
        "\n",
        "You can perform a number of tasks here. The ones below are required but you can do other things as well as you wish and think its useful. Explain what you do and why tho!"
      ],
      "metadata": {
        "id": "kPceWH4u0spM"
      }
    },
    {
      "cell_type": "markdown",
      "source": [
        "## two columns that speak to the age of the house are redundant.  drop a column  (3/15 points)"
      ],
      "metadata": {
        "id": "9HWc_6xzggHx"
      }
    },
    {
      "cell_type": "code",
      "source": [
        "..."
      ],
      "metadata": {
        "id": "6d3zkLbrgzCI"
      },
      "execution_count": null,
      "outputs": []
    },
    {
      "cell_type": "markdown",
      "source": [
        "## I do not know what the citiCode variable is and the kaggle website does not explain it. Get rid of it. We do not want to work with data we do not understand (2/25 points)"
      ],
      "metadata": {
        "id": "7TEcH8RBg-Xr"
      }
    },
    {
      "cell_type": "code",
      "source": [
        "..."
      ],
      "metadata": {
        "id": "tit11fbNg1bo"
      },
      "execution_count": null,
      "outputs": []
    },
    {
      "cell_type": "markdown",
      "source": [
        "## what other variables are not useful? drop them (3/25 points)\n"
      ],
      "metadata": {
        "id": "yLAbxzrw2GbN"
      }
    },
    {
      "cell_type": "code",
      "source": [
        "..."
      ],
      "metadata": {
        "id": "9J6np1fo2FLd"
      },
      "execution_count": null,
      "outputs": []
    },
    {
      "cell_type": "markdown",
      "source": [
        "# Optional (Extra Credit) - before you standardize your data, separate the variables that are binary from the ones that are not (+5 points)\n",
        "Note: in this data all variables are encoded as int64, so tp firgure out if a variable is a binary you need to find the variables that only contains 0 and 1 as values. If you made the right plots in the exploiratory data analysis phase you should already have a sense of what they are"
      ],
      "metadata": {
        "id": "hQGn2Hul0Yk_"
      }
    },
    {
      "cell_type": "code",
      "source": [
        "..."
      ],
      "metadata": {
        "id": "SkyT5emnlE9K"
      },
      "execution_count": null,
      "outputs": []
    },
    {
      "cell_type": "markdown",
      "source": [
        "# Not Optional: scale the data (7/25 points).\n",
        "If you split the data into training binary and non-binary only scale the non-binary: you want each column to be standard deviation 1 and mean 0 (we did it when we did clustering - https://github.com/fedhere/FDSFE_FBianco/blob/main/classdemo/FDSfE_kmeans_24Oct23_solution.ipynb)\n",
        "\n",
        "DO NOT scale the price variable with the rest. This is your target. You will process it differently"
      ],
      "metadata": {
        "id": "o9VeVp7O0zLT"
      }
    },
    {
      "cell_type": "code",
      "source": [
        "..."
      ],
      "metadata": {
        "id": "HZeT9XcCj0aq"
      },
      "execution_count": null,
      "outputs": []
    },
    {
      "cell_type": "markdown",
      "source": [
        "### Optional (part of the EC): If you had split the binary and non-binary data, put it back together now"
      ],
      "metadata": {
        "id": "v6F570RrBIuM"
      }
    },
    {
      "cell_type": "code",
      "source": [
        "data = np.concatenate([data_housing_normalized, data_housing[[c for c in data_housing.columns if not c in listofnonbinaryvars]].values], axis=1)"
      ],
      "metadata": {
        "id": "wxqba3YLtAKc"
      },
      "execution_count": null,
      "outputs": []
    },
    {
      "cell_type": "markdown",
      "source": [
        "## Not optional: In the modeling portion of the exam, you will perform a classification and a regression task. For each task you will process your target variable differently (5/25 points).\n",
        "\n"
      ],
      "metadata": {
        "id": "LcqoOiUTAWXv"
      }
    },
    {
      "cell_type": "markdown",
      "source": [
        "\n",
        "## For the regression: given the median price, and the fact that I woudl like my target variable to be order unit for more accurate computations. divide the target variable price by 1,000,000. This is the part `y = ...`\n"
      ],
      "metadata": {
        "id": "hfE-g94biGKK"
      }
    },
    {
      "cell_type": "code",
      "source": [
        "y = ..."
      ],
      "metadata": {
        "id": "vcxZVsB3RTtS"
      },
      "execution_count": null,
      "outputs": []
    },
    {
      "cell_type": "markdown",
      "source": [
        "## For the classification, split the target variable into two group, larger and smaller than a value of your choice. BUT,  choose the value so that there are roughtly as many objects in each of the two classes. This is the part `y_binary = ...` (5/25 points)"
      ],
      "metadata": {
        "id": "9xebNGU23cvm"
      }
    },
    {
      "cell_type": "code",
      "source": [
        "y_binary = ..."
      ],
      "metadata": {
        "id": "tRCsK5qOTJeY"
      },
      "execution_count": null,
      "outputs": []
    },
    {
      "cell_type": "code",
      "source": [
        "# this should return ~0.5 for each enstry\n",
        "y_binary.value_counts(normalize=True)"
      ],
      "metadata": {
        "id": "jnB73YpPoEYR"
      },
      "execution_count": null,
      "outputs": []
    },
    {
      "cell_type": "markdown",
      "source": [
        "# PART II: MODELING"
      ],
      "metadata": {
        "id": "1Crf_sOcQvVh"
      }
    },
    {
      "cell_type": "markdown",
      "source": [
        "# Task II.1 : Classifiation into two price classes (15 points)\n",
        "\n",
        "run a classifier of your choice (I used a Random Forest Classifier, but you can choose something else if you wish!) and predict if the house cost is larger or smaller than your breakpoint value"
      ],
      "metadata": {
        "id": "-1Cp3VQzC_xu"
      }
    },
    {
      "cell_type": "markdown",
      "source": [
        "## split your data into training and testing. ( 5/10 points)\n",
        "Choose an appropriate test_size. For the classification task, which you will do first, use the binary target variable you created by splitting the price at a given value."
      ],
      "metadata": {
        "id": "Iq4yFmffBFE-"
      }
    },
    {
      "cell_type": "code",
      "source": [
        "..."
      ],
      "metadata": {
        "id": "SOMftoxCTNhU"
      },
      "execution_count": null,
      "outputs": []
    },
    {
      "cell_type": "markdown",
      "source": [
        "## Run the classifier model (5/10 points)\n",
        "\n",
        "\n"
      ],
      "metadata": {
        "id": "TAUyV8taRvBs"
      }
    },
    {
      "cell_type": "code",
      "source": [
        "model = ...\n",
        "..."
      ],
      "metadata": {
        "id": "352aKVoRTPR-"
      },
      "execution_count": null,
      "outputs": []
    },
    {
      "cell_type": "markdown",
      "source": [
        "## assess the performance of your model (5/10 points)\n",
        "choose the appropriate metric, we have seen servarl for classification and several fo rregression in the course of the semester. Also, you can help yourself with https://scikit-learn.org/stable/modules/model_evaluation.html\n",
        "\n",
        "Comment on the model performance including overall model performance and overfitting"
      ],
      "metadata": {
        "id": "CW9TWZF2B_M6"
      }
    },
    {
      "cell_type": "code",
      "source": [
        "..."
      ],
      "metadata": {
        "id": "JTOFWJ9KTR34"
      },
      "execution_count": null,
      "outputs": []
    },
    {
      "cell_type": "code",
      "source": [
        "print(\"train accuracy \", ...)\n",
        "print(\"test accuracy \", ...)"
      ],
      "metadata": {
        "id": "IQlsd88uunaY"
      },
      "execution_count": null,
      "outputs": []
    },
    {
      "cell_type": "markdown",
      "source": [
        "# Task II.2 Regression (15 points)\n",
        "\n",
        "The classification task should be easy. Now move to the regression, which is a harder task in general. Use as your target variable the price divided by 1,000,000. Use a Random Forest Regression model\n",
        "\n",
        "think about the model hyperparameter and comment on your choices"
      ],
      "metadata": {
        "id": "T4v3b9GKDdWb"
      }
    },
    {
      "cell_type": "markdown",
      "source": [
        "## split your data again into train and test, this time the target variable is the the regression one (3/13 points)"
      ],
      "metadata": {
        "id": "jRx1nX5ND4Xl"
      }
    },
    {
      "cell_type": "code",
      "source": [
        "..."
      ],
      "metadata": {
        "id": "2N46pE4FTU8h"
      },
      "execution_count": null,
      "outputs": []
    },
    {
      "cell_type": "markdown",
      "source": [
        "## Run the classifier model (3/13 points)\n"
      ],
      "metadata": {
        "id": "vsgbnZ-SSJu8"
      }
    },
    {
      "cell_type": "code",
      "source": [
        "..."
      ],
      "metadata": {
        "id": "aPcnOhS2TXCk"
      },
      "execution_count": null,
      "outputs": []
    },
    {
      "cell_type": "markdown",
      "source": [
        "## Make a plot of the prediction against the true value for both training and test set (4/13 points)"
      ],
      "metadata": {
        "id": "xkr0yGyLEMeM"
      }
    },
    {
      "cell_type": "code",
      "source": [
        "plt. ......"
      ],
      "metadata": {
        "id": "7W3Lfb5TTZDw"
      },
      "execution_count": null,
      "outputs": []
    },
    {
      "cell_type": "markdown",
      "source": [
        "Remember to comment on the plots! figures without captions dont count. The caption shoudl descrine **what** is being plotted and point out noteworthy things (in this case, to help you understand the performance of your model)"
      ],
      "metadata": {
        "id": "n5hjXZn8E5dV"
      }
    },
    {
      "cell_type": "markdown",
      "source": [
        "## Assess the model (5/13 points)\n",
        "Use the \"explained variance\" score from https://scikit-learn.org/stable/modules/model_evaluation.html as a metric of performance for your model. Describe what you get and what it means, including if there are signs of overfitting"
      ],
      "metadata": {
        "id": "nxY2BML3FIKm"
      }
    },
    {
      "cell_type": "code",
      "source": [
        "..."
      ],
      "metadata": {
        "id": "TNC-I9OgTcxW"
      },
      "execution_count": null,
      "outputs": []
    }
  ]
}